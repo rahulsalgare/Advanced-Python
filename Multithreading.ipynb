{
 "cells": [
  {
   "cell_type": "code",
   "execution_count": 15,
   "metadata": {},
   "outputs": [
    {
     "name": "stdout",
     "output_type": "stream",
     "text": [
      "one\n",
      "one\n",
      "two\n",
      "two\n",
      "executed in  1.0108733699998993\n"
     ]
    }
   ],
   "source": [
    "import threading\n",
    "import time\n",
    "\n",
    "\n",
    "start_time = time.perf_counter()\n",
    "\n",
    "\n",
    "def do_something(seconds):\n",
    "    print('one')\n",
    "    time.sleep(seconds)\n",
    "    print('two')\n",
    "\n",
    "\n",
    "t1 = threading.Thread(target=do_something, args=[1])\n",
    "t2 = threading.Thread(target=do_something, args=[1])\n",
    "\n",
    "t1.start()\n",
    "t2.start()\n",
    "\n",
    "t1.join()\n",
    "t2.join()\n",
    "\n",
    "time_taken = time.perf_counter() - start_time\n",
    "print('executed in ', time_taken)"
   ]
  },
  {
   "cell_type": "code",
   "execution_count": 20,
   "metadata": {},
   "outputs": [
    {
     "name": "stdout",
     "output_type": "stream",
     "text": [
      "one\n",
      "oneone\n",
      "one\n",
      "one\n",
      "\n",
      "two\n",
      "two\n",
      "two\n",
      "two\n",
      "two\n",
      "executed in  5.008561211999904\n"
     ]
    }
   ],
   "source": [
    "import concurrent.futures\n",
    "\n",
    "start_time = time.perf_counter()\n",
    "\n",
    "\n",
    "def do_something(seconds):\n",
    "    print('one')\n",
    "    time.sleep(seconds)\n",
    "    return 'two'\n",
    "    \n",
    "with concurrent.futures.ThreadPoolExecutor() as executor:\n",
    "    secs = [5,4,3,2,1]\n",
    "    results = [executor.submit(do_something, sec) for sec in secs]\n",
    "    \n",
    "    for f in concurrent.futures.as_completed(results):\n",
    "        print(f.result())\n",
    "    \n",
    "    \n",
    "time_taken = time.perf_counter() - start_time\n",
    "print('executed in ', time_taken)"
   ]
  },
  {
   "cell_type": "code",
   "execution_count": null,
   "metadata": {},
   "outputs": [],
   "source": []
  }
 ],
 "metadata": {
  "kernelspec": {
   "display_name": "Python 3",
   "language": "python",
   "name": "python3"
  },
  "language_info": {
   "codemirror_mode": {
    "name": "ipython",
    "version": 3
   },
   "file_extension": ".py",
   "mimetype": "text/x-python",
   "name": "python",
   "nbconvert_exporter": "python",
   "pygments_lexer": "ipython3",
   "version": "3.8.5"
  }
 },
 "nbformat": 4,
 "nbformat_minor": 4
}
