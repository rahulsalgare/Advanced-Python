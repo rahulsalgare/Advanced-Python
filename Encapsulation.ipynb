{
 "cells": [
  {
   "cell_type": "markdown",
   "metadata": {},
   "source": [
    "## Encapsulation"
   ]
  },
  {
   "cell_type": "markdown",
   "metadata": {},
   "source": [
    "Encapsulation In an object oriented python program, you can restrict access to methods and variables. This can prevent the data from being modified by accident and is known as encapsulation. Let's start with an example."
   ]
  },
  {
   "cell_type": "code",
   "execution_count": 8,
   "metadata": {},
   "outputs": [
    {
     "name": "stdout",
     "output_type": "stream",
     "text": [
      "playing radio...\n",
      "station changed\n"
     ]
    }
   ],
   "source": [
    "class MusicPlayer:\n",
    "    def __init__(self):\n",
    "        self.__play()\n",
    "    \n",
    "    def change_station(self):\n",
    "        print(\"station changed\")\n",
    "    \n",
    "    def __play(self):\n",
    "        print(\"playing radio...\")\n",
    "\n",
    "m = MusicPlayer()\n",
    "m.change_station()\n",
    "# m.__play()                          Cannot access private method from object"
   ]
  },
  {
   "cell_type": "markdown",
   "metadata": {},
   "source": [
    "The private method __play() can only be called within the class itself. It can never be called from outside the class"
   ]
  },
  {
   "cell_type": "markdown",
   "metadata": {},
   "source": [
    "Objects can hold crucial data for your application and you do not want that data to be changeable from anywhere in the code. An example:"
   ]
  },
  {
   "cell_type": "code",
   "execution_count": 27,
   "metadata": {},
   "outputs": [
    {
     "name": "stdout",
     "output_type": "stream",
     "text": [
      "Current version: 3.7\n",
      "version is 3.9\n"
     ]
    }
   ],
   "source": [
    "class VersionControl:\n",
    "    \n",
    "    __version = 3.7\n",
    "    \n",
    "    def __init__(self):\n",
    "        print(\"Current version:\",self.__version)\n",
    "    \n",
    "    def change_version(self, version):\n",
    "        self.__version = version\n",
    "    \n",
    "    def print_version(self):\n",
    "        print(\"version is\",self.__version)\n",
    "\n",
    "v = VersionControl()\n",
    "# v.__version = 3.9       cannot directly change value. version is private variable\n",
    "v.change_version(3.9)      # call public method to change the value\n",
    "v.print_version()"
   ]
  },
  {
   "cell_type": "markdown",
   "metadata": {},
   "source": [
    "If you want to change the value of a private variable, a setter method is used. This is simply a method that sets the value of a private variable."
   ]
  },
  {
   "cell_type": "code",
   "execution_count": 53,
   "metadata": {},
   "outputs": [
    {
     "name": "stdout",
     "output_type": "stream",
     "text": [
      "3.1\n"
     ]
    }
   ],
   "source": [
    "class VersionControl:\n",
    "    __version = 3.7\n",
    "    \n",
    "    def set_version(self, version):\n",
    "        self.__version = version\n",
    "\n",
    "    def print_version(self):\n",
    "        print(self.__version)\n",
    "\n",
    "v = VersionControl()\n",
    "v.set_version(3.10)\n",
    "v.print_version()"
   ]
  },
  {
   "cell_type": "markdown",
   "metadata": {},
   "source": [
    "| Type | Description |\n",
    "| :- | :- |\n",
    "| public methods | accessible from anywhere |\n",
    "| private methods | accessible only in their own class. starts with two underscores |\n",
    "| public variables | accessible from anywhere |\n",
    "| private variables\t| accesible only in their own class or by a method if defined. starts with two underscores |"
   ]
  },
  {
   "cell_type": "code",
   "execution_count": null,
   "metadata": {},
   "outputs": [],
   "source": []
  }
 ],
 "metadata": {
  "kernelspec": {
   "display_name": "Python 3",
   "language": "python",
   "name": "python3"
  },
  "language_info": {
   "codemirror_mode": {
    "name": "ipython",
    "version": 3
   },
   "file_extension": ".py",
   "mimetype": "text/x-python",
   "name": "python",
   "nbconvert_exporter": "python",
   "pygments_lexer": "ipython3",
   "version": "3.7.6"
  }
 },
 "nbformat": 4,
 "nbformat_minor": 4
}
