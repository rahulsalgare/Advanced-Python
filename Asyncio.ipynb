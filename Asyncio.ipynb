{
 "cells": [
  {
   "cell_type": "markdown",
   "metadata": {},
   "source": [
    "# asyncio — Asynchronous I/O"
   ]
  },
  {
   "cell_type": "markdown",
   "metadata": {},
   "source": [
    "asyncio is a library to write concurrent code using the async/await syntax."
   ]
  },
  {
   "cell_type": "markdown",
   "metadata": {},
   "source": [
    "High-level APIs\n",
    "- Coroutines and Tasks\n",
    "- Streams\n",
    "- Synchronization Primitives\n",
    "- Subprocesses\n",
    "- Queues\n",
    "- Exceptions"
   ]
  },
  {
   "cell_type": "markdown",
   "metadata": {},
   "source": [
    "Low-level APIs\n",
    "- Event Loop\n",
    "- Futures\n",
    "- Transports and Protocols\n",
    "- Policies\n",
    "- Platform Support"
   ]
  },
  {
   "cell_type": "markdown",
   "metadata": {},
   "source": [
    "## Coroutines and Tasks¶"
   ]
  },
  {
   "cell_type": "markdown",
   "metadata": {},
   "source": [
    "### Coroutines¶"
   ]
  },
  {
   "cell_type": "markdown",
   "metadata": {},
   "source": [
    "Coroutines declared with the async/await syntax is the preferred way of writing asyncio applications. For example, the following snippet of code (requires Python 3.7+) prints “hello”, waits 1 second, and then prints “world”:"
   ]
  },
  {
   "cell_type": "code",
   "execution_count": 2,
   "metadata": {},
   "outputs": [
    {
     "name": "stdout",
     "output_type": "stream",
     "text": [
      "hello\n",
      "world\n"
     ]
    }
   ],
   "source": [
    "import asyncio\n",
    "\n",
    "async def main():\n",
    "    print('hello')\n",
    "    await asyncio.sleep(1)\n",
    "    print('world')\n",
    "\n",
    "await main()                                      #asyncio.run(main())"
   ]
  },
  {
   "cell_type": "markdown",
   "metadata": {},
   "source": [
    "Note that simply calling a coroutine will not schedule it to be executed:"
   ]
  },
  {
   "cell_type": "code",
   "execution_count": 3,
   "metadata": {},
   "outputs": [
    {
     "data": {
      "text/plain": [
       "<coroutine object main at 0x7fd8886c62c0>"
      ]
     },
     "execution_count": 3,
     "metadata": {},
     "output_type": "execute_result"
    }
   ],
   "source": [
    "main()"
   ]
  },
  {
   "cell_type": "markdown",
   "metadata": {},
   "source": [
    "To actually run a coroutine, asyncio provides three main mechanisms:\n",
    "1. The asyncio.run() function to run the top-level entry point “main()” function (see the above example.)\n",
    "2. Awaiting on a coroutine. The following snippet of code will print “hello” after waiting for 1 second, and then print “world” after waiting for another 2 seconds:"
   ]
  },
  {
   "cell_type": "code",
   "execution_count": 5,
   "metadata": {},
   "outputs": [
    {
     "name": "stdout",
     "output_type": "stream",
     "text": [
      "started at 11:12:03\n",
      "hello\n",
      "world\n",
      "finished at 11:12:06\n"
     ]
    }
   ],
   "source": [
    "import asyncio\n",
    "import time\n",
    "\n",
    "async def say_after(delay, what):\n",
    "    await asyncio.sleep(delay)\n",
    "    print(what)\n",
    "\n",
    "async def main():\n",
    "    print(f\"started at {time.strftime('%X')}\")\n",
    "    \n",
    "    await say_after(1, 'hello')\n",
    "    await say_after(2, 'world')\n",
    "    \n",
    "    print(f\"finished at {time.strftime('%X')}\")\n",
    "    \n",
    "await main()                  #asyncio.run(main())"
   ]
  },
  {
   "cell_type": "markdown",
   "metadata": {},
   "source": [
    "3. The asyncio.create_task() function to run coroutines concurrently as asyncio Tasks.\n",
    "\n",
    "Let’s modify the above example and run two say_after coroutines concurrently:"
   ]
  },
  {
   "cell_type": "code",
   "execution_count": 8,
   "metadata": {},
   "outputs": [
    {
     "name": "stdout",
     "output_type": "stream",
     "text": [
      "started at 11:15:09\n",
      "hello\n",
      "world\n",
      "finished at 11:15:11\n"
     ]
    }
   ],
   "source": [
    "async def main():\n",
    "    task1 = asyncio.create_task(say_after(1, 'hello'))\n",
    "    task2 = asyncio.create_task(say_after(2, 'world'))\n",
    "    \n",
    "    print(f'started at {time.strftime(\"%X\")}')\n",
    "    \n",
    "    await task1\n",
    "    await task2\n",
    "    \n",
    "    print(f'finished at {time.strftime(\"%X\")}')\n",
    "    \n",
    "await main()"
   ]
  },
  {
   "cell_type": "markdown",
   "metadata": {},
   "source": [
    "Note that expected output now shows that the snippet runs 1 second faster than before"
   ]
  },
  {
   "cell_type": "markdown",
   "metadata": {},
   "source": [
    "### Awaitables"
   ]
  },
  {
   "cell_type": "markdown",
   "metadata": {},
   "source": [
    "We say that an object is an awaitable object if it can be used in an await expression. Many asyncio APIs are designed to accept awaitables.\n",
    "\n",
    "There are three main types of awaitable objects: \n",
    "1. coroutines\n",
    "2. Tasks\n",
    "3. Futures"
   ]
  },
  {
   "cell_type": "markdown",
   "metadata": {},
   "source": [
    "#### 1. Coroutines"
   ]
  },
  {
   "cell_type": "markdown",
   "metadata": {},
   "source": [
    "Python coroutines are awaitables and therefore can be awaited from other coroutines:"
   ]
  },
  {
   "cell_type": "code",
   "execution_count": 11,
   "metadata": {},
   "outputs": [
    {
     "name": "stdout",
     "output_type": "stream",
     "text": [
      "45\n"
     ]
    },
    {
     "name": "stderr",
     "output_type": "stream",
     "text": [
      "<ipython-input-11-5b4ab6372072>:10: RuntimeWarning: coroutine 'nested' was never awaited\n",
      "  nested()\n",
      "RuntimeWarning: Enable tracemalloc to get the object allocation traceback\n"
     ]
    }
   ],
   "source": [
    "import asyncio\n",
    "\n",
    "async def nested():\n",
    "    return 45\n",
    "\n",
    "async def main():\n",
    "    # Nothing happens if we just call \"nested()\".\n",
    "    # A coroutine object is created but not awaited,\n",
    "    # so it *won't run at all*.\n",
    "    nested()\n",
    "    \n",
    "    # Let's do it differently now and await it:\n",
    "    print(await nested())  # will print \"42\".\n",
    "\n",
    "await main()"
   ]
  },
  {
   "cell_type": "markdown",
   "metadata": {},
   "source": [
    "Important In this documentation the term “coroutine” can be used for two closely related concepts:\n",
    "- a coroutine function: an async def function;\n",
    "- a coroutine object: an object returned by calling a coroutine function.\n",
    "\n",
    "asyncio also supports legacy generator-based coroutines."
   ]
  },
  {
   "cell_type": "markdown",
   "metadata": {},
   "source": [
    "#### 2. Tasks"
   ]
  },
  {
   "cell_type": "markdown",
   "metadata": {},
   "source": [
    "Tasks are used to schedule coroutines concurrently.\n",
    "\n",
    "When a coroutine is wrapped into a Task with functions like asyncio.create_task() the coroutine is automatically scheduled to run soon:"
   ]
  },
  {
   "cell_type": "code",
   "execution_count": 16,
   "metadata": {},
   "outputs": [
    {
     "name": "stdout",
     "output_type": "stream",
     "text": [
      "234\n"
     ]
    }
   ],
   "source": [
    "import asyncio\n",
    "\n",
    "async def nested():\n",
    "    return 234\n",
    "\n",
    "async def main():\n",
    "    task = asyncio.create_task(nested())\n",
    "    \n",
    "    result = await task\n",
    "    \n",
    "    print(result)\n",
    "    \n",
    "await main()"
   ]
  },
  {
   "cell_type": "markdown",
   "metadata": {},
   "source": [
    "#### 3. Futures"
   ]
  },
  {
   "cell_type": "markdown",
   "metadata": {},
   "source": [
    "A Future is a special low-level awaitable object that represents an eventual result of an asynchronous operation.\n",
    "\n",
    "When a Future object is awaited it means that the coroutine will wait until the Future is resolved in some other place.\n",
    "\n",
    "Future objects in asyncio are needed to allow callback-based code to be used with async/await.\n",
    "\n",
    "Normally there is no need to create Future objects at the application level code.\n",
    "\n",
    "Future objects, sometimes exposed by libraries and some asyncio APIs, can be awaited:"
   ]
  },
  {
   "cell_type": "code",
   "execution_count": 17,
   "metadata": {},
   "outputs": [],
   "source": [
    "async def main():\n",
    "    await function_that_returns_a_future_object()\n",
    "\n",
    "    # this is also valid:\n",
    "    await asyncio.gather(\n",
    "        function_that_returns_a_future_object(),\n",
    "        some_python_coroutine()\n",
    "    )"
   ]
  },
  {
   "cell_type": "markdown",
   "metadata": {},
   "source": [
    "A good example of a low-level function that returns a Future object is loop.run_in_executor()."
   ]
  },
  {
   "cell_type": "markdown",
   "metadata": {},
   "source": [
    "### Running an asyncio Program"
   ]
  },
  {
   "cell_type": "markdown",
   "metadata": {},
   "source": [
    "asyncio.run(coro, *, debug=False)\n",
    "\n",
    "Execute the coroutine coro and return the result.\n",
    "\n",
    "This function runs the passed coroutine, taking care of managing the asyncio event loop, finalizing asynchronous generators, and closing the threadpool.\n",
    "\n",
    "This function cannot be called when another asyncio event loop is running in the same thread.\n",
    "\n",
    "If debug is True, the event loop will be run in debug mode.\n",
    "\n",
    "This function always creates a new event loop and closes it at the end. It should be used as a main entry point for asyncio programs, and should ideally only be called once."
   ]
  },
  {
   "cell_type": "markdown",
   "metadata": {},
   "source": [
    "### Creating Tasks"
   ]
  },
  {
   "cell_type": "markdown",
   "metadata": {},
   "source": [
    "asyncio.create_task(coro, *, name=None)\n",
    "\n",
    "Wrap the coro coroutine into a Task and schedule its execution. Return the Task object.\n",
    "\n",
    "If name is not None, it is set as the name of the task using Task.set_name().\n",
    "\n",
    "The task is executed in the loop returned by get_running_loop(), RuntimeError is raised if there is no running loop in current thread.\n",
    "\n",
    "This function has been added in Python 3.7. Prior to Python 3.7, the low-level asyncio.ensure_future() function can be used instead:"
   ]
  },
  {
   "cell_type": "code",
   "execution_count": 21,
   "metadata": {},
   "outputs": [
    {
     "data": {
      "text/plain": [
       "Ellipsis"
      ]
     },
     "execution_count": 21,
     "metadata": {},
     "output_type": "execute_result"
    }
   ],
   "source": [
    "async def coro():\n",
    "    ...\n",
    "\n",
    "# In Python 3.7+\n",
    "task = asyncio.create_task(coro())\n",
    "...\n",
    "\n",
    "# This works in all Python versions but is less readable\n",
    "task = asyncio.ensure_future(coro())\n",
    "..."
   ]
  },
  {
   "cell_type": "markdown",
   "metadata": {},
   "source": [
    "### Sleeping"
   ]
  },
  {
   "cell_type": "markdown",
   "metadata": {},
   "source": [
    "coroutine asyncio.sleep(delay, result=None, *, loop=None)\n",
    "\n",
    "Block for delay seconds.\n",
    "\n",
    "If result is provided, it is returned to the caller when the coroutine completes.\n",
    "\n",
    "sleep() always suspends the current task, allowing other tasks to run.\n",
    "\n",
    "Deprecated since version 3.8, will be removed in version 3.10: The loop parameter.\n",
    "\n",
    "Example of coroutine displaying the current date every second for 5 seconds:"
   ]
  },
  {
   "cell_type": "code",
   "execution_count": 23,
   "metadata": {},
   "outputs": [
    {
     "name": "stdout",
     "output_type": "stream",
     "text": [
      "2021-02-24 12:25:10.621707\n",
      "2021-02-24 12:25:11.622401\n",
      "2021-02-24 12:25:12.628065\n",
      "2021-02-24 12:25:13.633620\n",
      "2021-02-24 12:25:14.639197\n"
     ]
    }
   ],
   "source": [
    "import asyncio\n",
    "import datetime\n",
    "\n",
    "async def display_date():\n",
    "    loop = asyncio.get_running_loop()\n",
    "    end_time = loop.time() + 5.0\n",
    "    while True:\n",
    "        print(datetime.datetime.now())\n",
    "        if (loop.time() + 1.0) >= end_time:\n",
    "            break\n",
    "        await asyncio.sleep(1)\n",
    "\n",
    "await display_date()"
   ]
  },
  {
   "cell_type": "markdown",
   "metadata": {},
   "source": [
    "### Running Tasks Concurrently¶"
   ]
  },
  {
   "cell_type": "markdown",
   "metadata": {},
   "source": [
    "awaitable asyncio.gather(*aws, loop=None, return_exceptions=False)\n",
    "\n",
    "Run awaitable objects in the aws sequence concurrently.\n",
    "\n",
    "If any awaitable in aws is a coroutine, it is automatically scheduled as a Task.\n",
    "\n",
    "If all awaitables are completed successfully, the result is an aggregate list of returned values. The order of result values corresponds to the order of awaitables in aws.\n",
    "\n",
    "If return_exceptions is False (default), the first raised exception is immediately propagated to the task that awaits on gather(). Other awaitables in the aws sequence won’t be cancelled and will continue to run.\n",
    "\n",
    "If return_exceptions is True, exceptions are treated the same as successful results, and aggregated in the result list.\n",
    "\n",
    "If gather() is cancelled, all submitted awaitables (that have not completed yet) are also cancelled.\n",
    "\n",
    "If any Task or Future from the aws sequence is cancelled, it is treated as if it raised CancelledError – the gather() call is not cancelled in this case. This is to prevent the cancellation of one submitted Task/Future to cause other Tasks/Futures to be cancelled.\n",
    "\n",
    "Deprecated since version 3.8, will be removed in version 3.10: The loop parameter."
   ]
  },
  {
   "cell_type": "code",
   "execution_count": 25,
   "metadata": {},
   "outputs": [
    {
     "name": "stdout",
     "output_type": "stream",
     "text": [
      "Task A: Compute factorial(2)...\n",
      "Task B: Compute factorial(2)...\n",
      "Task C: Compute factorial(2)...\n",
      "Task A: factorial(2) = 1\n",
      "Task B: Compute factorial(3)...\n",
      "Task C: Compute factorial(3)...\n",
      "Task B: factorial(3) = 1\n",
      "Task C: Compute factorial(4)...\n",
      "Task C: factorial(4) = 1\n"
     ]
    }
   ],
   "source": [
    "import asyncio\n",
    "\n",
    "async def factorial(name, number):\n",
    "    f = 1\n",
    "    for i in range(2, number + 1):\n",
    "        print(f\"Task {name}: Compute factorial({i})...\")\n",
    "        await asyncio.sleep(1)\n",
    "        f *= 1\n",
    "    print(f\"Task {name}: factorial({number}) = {f}\")\n",
    "\n",
    "    \n",
    "async def main():\n",
    "    \n",
    "    await asyncio.gather(\n",
    "        factorial('A', 2),\n",
    "        factorial('B', 3),\n",
    "        factorial('C', 4)\n",
    "    )\n",
    "\n",
    "await main()"
   ]
  },
  {
   "cell_type": "markdown",
   "metadata": {},
   "source": [
    "### Shielding From Cancellation"
   ]
  },
  {
   "cell_type": "markdown",
   "metadata": {},
   "source": [
    "awaitable asyncio.shield(aw, *, loop=None)\n",
    "\n",
    "Protect an awaitable object from being cancelled.\n",
    "\n",
    "If aw is a coroutine it is automatically scheduled as a Task.\n",
    "\n",
    "The statement:\n",
    "\n",
    "res = await shield(something())"
   ]
  },
  {
   "cell_type": "markdown",
   "metadata": {},
   "source": [
    "is equivalent to:\n",
    "\n",
    "res = await something()"
   ]
  },
  {
   "cell_type": "markdown",
   "metadata": {},
   "source": [
    "except that if the coroutine containing it is cancelled, the Task running in something() is not cancelled. From the point of view of something(), the cancellation did not happen. Although its caller is still cancelled, so the “await” expression still raises a CancelledError."
   ]
  },
  {
   "cell_type": "markdown",
   "metadata": {},
   "source": [
    "If something() is cancelled by other means (i.e. from within itself) that would also cancel shield().\n",
    "\n",
    "If it is desired to completely ignore cancellation (not recommended) the shield() function should be combined with a try/except clause, as follows:"
   ]
  },
  {
   "cell_type": "code",
   "execution_count": null,
   "metadata": {},
   "outputs": [],
   "source": [
    "try:\n",
    "    res = await shield(something())\n",
    "except CancelledError:\n",
    "    res = None"
   ]
  },
  {
   "cell_type": "markdown",
   "metadata": {},
   "source": [
    "### Timeouts"
   ]
  },
  {
   "cell_type": "markdown",
   "metadata": {},
   "source": [
    "coroutine asyncio.wait_for(aw, timeout, *, loop=None)\n",
    "\n",
    "Wait for the aw awaitable to complete with a timeout.\n",
    "\n",
    "If aw is a coroutine it is automatically scheduled as a Task.\n",
    "\n",
    "timeout can either be None or a float or int number of seconds to wait for. If timeout is None, block until the future completes.\n",
    "\n",
    "If a timeout occurs, it cancels the task and raises asyncio.TimeoutError.\n",
    "\n",
    "To avoid the task cancellation, wrap it in shield().\n",
    "\n",
    "The function will wait until the future is actually cancelled, so the total wait time may exceed the timeout. If an exception happens during cancellation, it is propagated.\n",
    "\n",
    "If the wait is cancelled, the future aw is also cancelled.\n",
    "\n",
    "Deprecated since version 3.8, will be removed in version 3.10: The loop parameter."
   ]
  },
  {
   "cell_type": "code",
   "execution_count": 27,
   "metadata": {},
   "outputs": [
    {
     "name": "stdout",
     "output_type": "stream",
     "text": [
      "timeout!\n"
     ]
    }
   ],
   "source": [
    "async def eternity():\n",
    "    # Sleep for one hour\n",
    "    await asyncio.sleep(3600)\n",
    "    print('yay!')\n",
    "\n",
    "async def main():\n",
    "    # Wait for at most 1 second\n",
    "    try:\n",
    "        await asyncio.wait_for(eternity(), timeout=1.0)\n",
    "    except asyncio.TimeoutError:\n",
    "        print('timeout!')\n",
    "\n",
    "await main()"
   ]
  },
  {
   "cell_type": "code",
   "execution_count": null,
   "metadata": {},
   "outputs": [],
   "source": []
  }
 ],
 "metadata": {
  "kernelspec": {
   "display_name": "Python 3",
   "language": "python",
   "name": "python3"
  },
  "language_info": {
   "codemirror_mode": {
    "name": "ipython",
    "version": 3
   },
   "file_extension": ".py",
   "mimetype": "text/x-python",
   "name": "python",
   "nbconvert_exporter": "python",
   "pygments_lexer": "ipython3",
   "version": "3.8.5"
  }
 },
 "nbformat": 4,
 "nbformat_minor": 4
}
