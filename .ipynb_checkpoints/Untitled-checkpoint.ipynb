{
 "cells": [
  {
   "cell_type": "markdown",
   "metadata": {},
   "source": [
    "## Scopes and Namespaces Example"
   ]
  },
  {
   "cell_type": "code",
   "execution_count": 61,
   "metadata": {},
   "outputs": [
    {
     "name": "stdout",
     "output_type": "stream",
     "text": [
      "after local assignment test spam 2339229741424\n",
      "after nonlocal assignment test spamnonlocal spam 2339233188560\n",
      "after global assignment test spamnonlocal spam 2339233188560\n",
      "after all print local assignment test spamnonlocal spam 2339233188560\n",
      "after global assignment haaa#$##$global spam 2339233203824\n"
     ]
    }
   ],
   "source": [
    "spam = \"haaa#$##$\"\n",
    "def scope_test():\n",
    "    spam = \"test spam\"\n",
    "    \n",
    "    def do_local():\n",
    "        spam = \"local spam\"\n",
    "    \n",
    "    def do_nonlocal():\n",
    "#        tell python to access spam initialized at scope_test\n",
    "        nonlocal spam     \n",
    "        spam = spam + \"nonlocal spam\"\n",
    "        \n",
    "    def do_global():\n",
    "#         this will access the spam at global level\n",
    "        global spam\n",
    "        spam =  spam + \"global spam\"\n",
    "        \n",
    "    \n",
    "    do_local()\n",
    "    print(\"after local assignment\", spam, id(spam))\n",
    "    do_nonlocal()\n",
    "    print(\"after nonlocal assignment\", spam, id(spam))\n",
    "    do_global()\n",
    "    print(\"after global assignment\", spam, id(spam))           #this will print on local spam\n",
    "    do_local()\n",
    "    print(\"after all print local assignment\", spam, id(spam))\n",
    "\n",
    "scope_test()\n",
    "print(\"after global assignment\", spam, id(spam))                #this will print on global spam                "
   ]
  },
  {
   "cell_type": "code",
   "execution_count": 47,
   "metadata": {},
   "outputs": [
    {
     "name": "stdout",
     "output_type": "stream",
     "text": [
      "outer value: 10 id: 140724257399472\n",
      "inner value: 20 id: 140724257399792\n"
     ]
    }
   ],
   "source": [
    "\n",
    "def fun(): \n",
    "    var1 = 10\n",
    "    print(\"outer value: {0} id: {1}\" .format(var1, id(var1)))\n",
    "  \n",
    "    def gun(): \n",
    "        # tell python explicitly that it  \n",
    "        # has to access var1 initialized  \n",
    "        # in fun on line 2 \n",
    "        # using the keyword nonlocal \n",
    "        nonlocal var1\n",
    "        var1 = var1 + 10\n",
    "        print(\"inner value: {0} id: {1}\" .format(var1, id(var1)))\n",
    "    gun() \n",
    "fun() "
   ]
  },
  {
   "cell_type": "code",
   "execution_count": 48,
   "metadata": {},
   "outputs": [
    {
     "name": "stdout",
     "output_type": "stream",
     "text": [
      "var1 is 30\n"
     ]
    }
   ],
   "source": [
    "var1 = 10\n",
    "def fun(): \n",
    "    # tell python explicitly do not  \n",
    "    # intialise a new variable \n",
    "    # instead access var1 which  \n",
    "    # has global scope \n",
    "    global var1 \n",
    "    var1 = var1 + 20\n",
    "    print('var1 is', var1) \n",
    "  \n",
    "fun() "
   ]
  },
  {
   "cell_type": "code",
   "execution_count": null,
   "metadata": {},
   "outputs": [],
   "source": []
  }
 ],
 "metadata": {
  "kernelspec": {
   "display_name": "Python 3",
   "language": "python",
   "name": "python3"
  },
  "language_info": {
   "codemirror_mode": {
    "name": "ipython",
    "version": 3
   },
   "file_extension": ".py",
   "mimetype": "text/x-python",
   "name": "python",
   "nbconvert_exporter": "python",
   "pygments_lexer": "ipython3",
   "version": "3.7.6"
  }
 },
 "nbformat": 4,
 "nbformat_minor": 4
}
