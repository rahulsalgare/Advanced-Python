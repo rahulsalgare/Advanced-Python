{
 "cells": [
  {
   "cell_type": "markdown",
   "metadata": {},
   "source": [
    "# Decorators"
   ]
  },
  {
   "cell_type": "markdown",
   "metadata": {},
   "source": [
    "A decorator in Python is a function that accepts another function as an argument. The decorator will usually modify or enhance the function it accepted and return the modified function. This means that when you call a decorated function, you will get a function that may be a little different that may have additional features compared with the base definition. But let’s back up a bit. We should probably review the basic building block of a decorator, namely, the function."
   ]
  },
  {
   "cell_type": "code",
   "execution_count": 13,
   "metadata": {},
   "outputs": [
    {
     "name": "stdout",
     "output_type": "stream",
     "text": [
      "5+5\n",
      "value of 5+5 is 10\n"
     ]
    }
   ],
   "source": [
    "def another_func(func):\n",
    "    \n",
    "    def other_func():\n",
    "        val = \"value of %s is %s\" % (func(), eval(func()))\n",
    "        return val\n",
    "    return other_func\n",
    "\n",
    "def a_function():\n",
    "    return \"5+5\"\n",
    "\n",
    "\n",
    "if __name__ == \"__main__\":\n",
    "    value = a_function()\n",
    "    print(value)\n",
    "    decorator = another_func(a_function)\n",
    "    print(decorator())"
   ]
  },
  {
   "cell_type": "markdown",
   "metadata": {},
   "source": [
    "This is how a decorator works. We create one function and then pass it into a second function. The second function is the decorator function. The decorator will modify or enhance the function that was passed to it and return the modification."
   ]
  },
  {
   "cell_type": "markdown",
   "metadata": {},
   "source": [
    "Let’s change the code slightly to turn another_function into a decorator:"
   ]
  },
  {
   "cell_type": "code",
   "execution_count": 17,
   "metadata": {},
   "outputs": [
    {
     "name": "stdout",
     "output_type": "stream",
     "text": [
      "value of 5+5 is 10\n"
     ]
    }
   ],
   "source": [
    "def another_func(func):\n",
    "    \n",
    "    def other_func():\n",
    "        val = \"value of %s is %s\" % (func(), eval(func()))\n",
    "        return val\n",
    "    return other_func\n",
    "\n",
    "@another_func\n",
    "def a_function():\n",
    "    return \"5+5\"\n",
    "\n",
    "\n",
    "if __name__ == \"__main__\":\n",
    "    value = a_function()\n",
    "    print(value)"
   ]
  },
  {
   "cell_type": "markdown",
   "metadata": {},
   "source": [
    "You will note that in Python, a decorator starts with the @ symbol followed by the name of the function that we will be using to “decorate” our regular with. To apply the decorator, you just put it on the line before the function definition. "
   ]
  },
  {
   "cell_type": "markdown",
   "metadata": {},
   "source": [
    "### Creating a Logging Decorator"
   ]
  },
  {
   "cell_type": "code",
   "execution_count": 23,
   "metadata": {},
   "outputs": [
    {
     "name": "stdout",
     "output_type": "stream",
     "text": [
      "<function double_function at 0x00000219E64B9318>\n"
     ]
    }
   ],
   "source": [
    "import logging\n",
    "\n",
    "def log(func):\n",
    "    \"\"\"\n",
    "    Log what function is called\n",
    "    \"\"\"\n",
    "    def wrap_log(*args, **kwargs):\n",
    "        name = func.__name__\n",
    "        logger = logging.getLogger(name)\n",
    "        logger.setLevel(logging.INFO)\n",
    "\n",
    "        # add file handler\n",
    "        fh = logging.FileHandler(\"%s.log\" % name)\n",
    "        fmt = '%(asctime)s - %(name)s - %(levelname)s - %(message)s'\n",
    "        formatter = logging.Formatter(fmt)\n",
    "        fh.setFormatter(formatter)\n",
    "        logger.addHandler(fh)\n",
    "\n",
    "        logger.info(\"Running function: %s\" % name)\n",
    "        result = func(*args, **kwargs)\n",
    "        logger.info(\"Result: %s\" % result)\n",
    "        return func\n",
    "    return wrap_log\n",
    "\n",
    "@log\n",
    "def double_function(a):\n",
    "    \"\"\"\n",
    "    Double the input parameter\n",
    "    \"\"\"\n",
    "    return a*2\n",
    "\n",
    "if __name__ == \"__main__\":\n",
    "    value = double_function(2)"
   ]
  },
  {
   "cell_type": "markdown",
   "metadata": {},
   "source": [
    "This little script has a log function that accepts a function as its sole argument. It will create a logger object and a log file name based on the name of the function. Then the log function will log what function was called and what the function returned, if anything."
   ]
  },
  {
   "cell_type": "markdown",
   "metadata": {},
   "source": [
    "### classmethod in python"
   ]
  },
  {
   "cell_type": "markdown",
   "metadata": {},
   "source": [
    "* <mark> The classmethod() is an inbuilt function in Python, which returns a class method for a given function.</mark>\n",
    "\n",
    "* A class method receives the class as implicit first argument, just like an instance method receives the instance"
   ]
  },
  {
   "cell_type": "markdown",
   "metadata": {},
   "source": [
    "classmethod() methods are bound to a class rather than an object. Class methods can be called by both class and object. These methods can be called with a class or with an object. The examples below clearly illustrate this."
   ]
  },
  {
   "cell_type": "code",
   "execution_count": 51,
   "metadata": {},
   "outputs": [
    {
     "name": "stdout",
     "output_type": "stream",
     "text": [
      "The name is :  Geeksforgeeks\n"
     ]
    }
   ],
   "source": [
    "# Python program to understand the classmethod \n",
    "  \n",
    "class Student: \n",
    "      \n",
    "    # create a variable \n",
    "    name = \"Geeksforgeeks\"\n",
    "      \n",
    "    # create a function \n",
    "    def print_name(obj): \n",
    "        print(\"The name is : \", obj.name)\n",
    "\n",
    "# this line retuns class method for object method print_name.\n",
    "# without classmethod function below, print_name will only be accessed from instance and not class.\n",
    "Student.print_name = classmethod(Student.print_name)\n",
    "Student.print_name()"
   ]
  },
  {
   "cell_type": "markdown",
   "metadata": {},
   "source": [
    "Uses of classmethod() classmethod() function is used in factory design patterns where we want to call many functions with the class name rather than object."
   ]
  },
  {
   "cell_type": "markdown",
   "metadata": {},
   "source": [
    "#### The @classmethod Decorator:"
   ]
  },
  {
   "cell_type": "code",
   "execution_count": 54,
   "metadata": {},
   "outputs": [
    {
     "name": "stdout",
     "output_type": "stream",
     "text": [
      "The name is : Geeksforgeeks\n"
     ]
    }
   ],
   "source": [
    "class Student: \n",
    "      \n",
    "    # create a variable \n",
    "    name = \"Geeksforgeeks\"\n",
    "      \n",
    "    @classmethod\n",
    "    def print_name(obj): \n",
    "        print(\"The name is :\", obj.name)\n",
    "\n",
    "Student.print_name()"
   ]
  },
  {
   "cell_type": "markdown",
   "metadata": {},
   "source": [
    "* A class method is a method which is bound to the class and not the object of the class.\n",
    "* They have the access to the state of the class as it takes a class parameter that points to the class and not the object instance.\n",
    "* It can modify a class state that would apply across all the instances of the class. For example, it can modify a class variable that would be applicable to all the instances."
   ]
  },
  {
   "cell_type": "markdown",
   "metadata": {},
   "source": [
    "### staticmethod"
   ]
  },
  {
   "cell_type": "markdown",
   "metadata": {},
   "source": [
    "* A static method does not receive an implicit first argument.\n",
    "* A static method is also a method which is bound to the class and not the object of the class.\n",
    "* A static method can’t access or modify class state.\n",
    "* It is present in a class because it makes sense for the method to be present in class."
   ]
  },
  {
   "cell_type": "code",
   "execution_count": 66,
   "metadata": {},
   "outputs": [
    {
     "data": {
      "text/plain": [
       "True"
      ]
     },
     "execution_count": 66,
     "metadata": {},
     "output_type": "execute_result"
    }
   ],
   "source": [
    "class Student: \n",
    "      \n",
    "    # create a variable \n",
    "    name = \"Geeksforgeeks\"\n",
    "      \n",
    "#   @staticmethod \n",
    "    def check_age(age): \n",
    "        return age > 18\n",
    "            \n",
    "\n",
    "Student.check_age(22)"
   ]
  },
  {
   "cell_type": "markdown",
   "metadata": {},
   "source": [
    "<mark> Why code works even without staticmethod decorator ? </mark>"
   ]
  },
  {
   "cell_type": "code",
   "execution_count": 71,
   "metadata": {},
   "outputs": [
    {
     "name": "stdout",
     "output_type": "stream",
     "text": [
      "21\n",
      "24\n",
      "True\n"
     ]
    }
   ],
   "source": [
    "\n",
    "# Python program to demonstrate  \n",
    "# use of class method and static method. \n",
    "from datetime import date \n",
    "  \n",
    "class Person: \n",
    "    def __init__(self, name, age): \n",
    "        self.name = name \n",
    "        self.age = age \n",
    "      \n",
    "    # a class method to create a Person object by birth year. \n",
    "    @classmethod\n",
    "    def fromBirthYear(cls, name, year): \n",
    "        return cls(name, date.today().year - year) \n",
    "      \n",
    "    # a static method to check if a Person is adult or not. \n",
    "    @staticmethod\n",
    "    def isAdult(age): \n",
    "        return age > 18\n",
    "  \n",
    "person1 = Person('mayank', 21) \n",
    "person2 = Person.fromBirthYear('mayank', 1996) \n",
    "  \n",
    "print(person1.age) \n",
    "print(person2.age) \n",
    "  \n",
    "# print the result \n",
    "print(Person.isAdult(22)) "
   ]
  },
  {
   "cell_type": "markdown",
   "metadata": {},
   "source": [
    "#### <mark> Seems theres no need for staticmethod in python 3 </mark>"
   ]
  },
  {
   "cell_type": "code",
   "execution_count": null,
   "metadata": {},
   "outputs": [],
   "source": []
  }
 ],
 "metadata": {
  "kernelspec": {
   "display_name": "Python 3",
   "language": "python",
   "name": "python3"
  },
  "language_info": {
   "codemirror_mode": {
    "name": "ipython",
    "version": 3
   },
   "file_extension": ".py",
   "mimetype": "text/x-python",
   "name": "python",
   "nbconvert_exporter": "python",
   "pygments_lexer": "ipython3",
   "version": "3.7.6"
  }
 },
 "nbformat": 4,
 "nbformat_minor": 4
}
