{
 "cells": [
  {
   "cell_type": "markdown",
   "metadata": {},
   "source": [
    "## Scopes and Namespaces Example"
   ]
  },
  {
   "cell_type": "code",
   "execution_count": 61,
   "metadata": {},
   "outputs": [
    {
     "name": "stdout",
     "output_type": "stream",
     "text": [
      "after local assignment test spam 2339229741424\n",
      "after nonlocal assignment test spamnonlocal spam 2339233188560\n",
      "after global assignment test spamnonlocal spam 2339233188560\n",
      "after all print local assignment test spamnonlocal spam 2339233188560\n",
      "after global assignment haaa#$##$global spam 2339233203824\n"
     ]
    }
   ],
   "source": [
    "spam = \"haaa#$##$\"\n",
    "def scope_test():\n",
    "    spam = \"test spam\"\n",
    "    \n",
    "    def do_local():\n",
    "        spam = \"local spam\"\n",
    "    \n",
    "    def do_nonlocal():\n",
    "#        tell python to access spam initialized at scope_test\n",
    "        nonlocal spam     \n",
    "        spam = spam + \"nonlocal spam\"\n",
    "        \n",
    "    def do_global():\n",
    "#         this will access the spam at global level\n",
    "        global spam\n",
    "        spam =  spam + \"global spam\"\n",
    "        \n",
    "    \n",
    "    do_local()\n",
    "    print(\"after local assignment\", spam, id(spam))\n",
    "    do_nonlocal()\n",
    "    print(\"after nonlocal assignment\", spam, id(spam))\n",
    "    do_global()\n",
    "    print(\"after global assignment\", spam, id(spam))           #this will print on local spam\n",
    "    do_local()\n",
    "    print(\"after all print local assignment\", spam, id(spam))\n",
    "\n",
    "scope_test()\n",
    "print(\"after global assignment\", spam, id(spam))                #this will print on global spam                "
   ]
  },
  {
   "cell_type": "code",
   "execution_count": 47,
   "metadata": {},
   "outputs": [
    {
     "name": "stdout",
     "output_type": "stream",
     "text": [
      "outer value: 10 id: 140724257399472\n",
      "inner value: 20 id: 140724257399792\n"
     ]
    }
   ],
   "source": [
    "\n",
    "def fun(): \n",
    "    var1 = 10\n",
    "    print(\"outer value: {0} id: {1}\" .format(var1, id(var1)))\n",
    "  \n",
    "    def gun(): \n",
    "        # tell python explicitly that it  \n",
    "        # has to access var1 initialized  \n",
    "        # in fun on line 2 \n",
    "        # using the keyword nonlocal \n",
    "        nonlocal var1\n",
    "        var1 = var1 + 10\n",
    "        print(\"inner value: {0} id: {1}\" .format(var1, id(var1)))\n",
    "    gun() \n",
    "fun() "
   ]
  },
  {
   "cell_type": "code",
   "execution_count": 48,
   "metadata": {},
   "outputs": [
    {
     "name": "stdout",
     "output_type": "stream",
     "text": [
      "var1 is 30\n"
     ]
    }
   ],
   "source": [
    "var1 = 10\n",
    "def fun(): \n",
    "    # tell python explicitly do not  \n",
    "    # intialise a new variable \n",
    "    # instead access var1 which  \n",
    "    # has global scope \n",
    "    global var1 \n",
    "    var1 = var1 + 20\n",
    "    print('var1 is', var1) \n",
    "  \n",
    "fun() "
   ]
  },
  {
   "cell_type": "markdown",
   "metadata": {},
   "source": [
    "## CLass objects"
   ]
  },
  {
   "cell_type": "code",
   "execution_count": 86,
   "metadata": {},
   "outputs": [],
   "source": [
    "class MyClass:\n",
    "    \"\"\"A simple example class\"\"\"\n",
    "    i = 12345\n",
    "    def __init__(self):\n",
    "        self.i = 234234\n",
    "        \n",
    "    def f(self):\n",
    "        return self.i"
   ]
  },
  {
   "cell_type": "code",
   "execution_count": 88,
   "metadata": {},
   "outputs": [
    {
     "name": "stdout",
     "output_type": "stream",
     "text": [
      "12345\n",
      "<function MyClass.f at 0x00000220A529AA68>\n"
     ]
    }
   ],
   "source": [
    "print(MyClass.i)\n",
    "print(MyClass.f)"
   ]
  },
  {
   "cell_type": "code",
   "execution_count": 91,
   "metadata": {},
   "outputs": [
    {
     "data": {
      "text/plain": [
       "234234"
      ]
     },
     "execution_count": 91,
     "metadata": {},
     "output_type": "execute_result"
    }
   ],
   "source": [
    "c = MyClass()\n",
    "c.f()"
   ]
  },
  {
   "cell_type": "markdown",
   "metadata": {},
   "source": [
    "## Instance Objects¶"
   ]
  },
  {
   "cell_type": "code",
   "execution_count": 94,
   "metadata": {},
   "outputs": [
    {
     "name": "stdout",
     "output_type": "stream",
     "text": [
      "10\n"
     ]
    }
   ],
   "source": [
    "# 1 Data attributes\n",
    "# Data attributes need not be declared; like local variables, they spring into existence when they are first assigned to\n",
    "c.counter = 10\n",
    "print(c.counter)\n",
    "del c.counter"
   ]
  },
  {
   "cell_type": "code",
   "execution_count": 98,
   "metadata": {},
   "outputs": [
    {
     "name": "stdout",
     "output_type": "stream",
     "text": [
      "<bound method MyClass.f of <__main__.MyClass object at 0x00000220A529FD48>>\n"
     ]
    }
   ],
   "source": [
    "# 2 Method\n",
    "# c.t = c.f\n",
    "# print(c.t)"
   ]
  },
  {
   "cell_type": "markdown",
   "metadata": {},
   "source": [
    "## Method Objects"
   ]
  },
  {
   "cell_type": "code",
   "execution_count": 99,
   "metadata": {},
   "outputs": [
    {
     "name": "stdout",
     "output_type": "stream",
     "text": [
      "234234\n"
     ]
    }
   ],
   "source": [
    "xf = c.f\n",
    "print(xf())"
   ]
  },
  {
   "cell_type": "code",
   "execution_count": 102,
   "metadata": {},
   "outputs": [
    {
     "name": "stdout",
     "output_type": "stream",
     "text": [
      "234234\n",
      "234234\n"
     ]
    }
   ],
   "source": [
    "# the special thing about methods is that the instance object is passed as the first argument of the function.\n",
    "# so argument in f function catches the instance object automatically we dont need to pass while calling\n",
    "\n",
    "print(c.f())\n",
    "print(MyClass.f(c))     #these two lines does same thing. In second line we need to pass the object instance"
   ]
  },
  {
   "cell_type": "markdown",
   "metadata": {},
   "source": [
    "If you still don’t understand how methods work, a look at the implementation can perhaps clarify matters. When a non-data attribute of an instance is referenced, the instance’s class is searched. If the name denotes a valid class attribute that is a function object, a method object is created by packing (pointers to) the instance object and the function object just found together in an abstract object: this is the method object. When the method object is called with an argument list, a new argument list is constructed from the instance object and the argument list, and the function object is called with this new argument list."
   ]
  },
  {
   "cell_type": "code",
   "execution_count": null,
   "metadata": {},
   "outputs": [],
   "source": []
  }
 ],
 "metadata": {
  "kernelspec": {
   "display_name": "Python 3",
   "language": "python",
   "name": "python3"
  },
  "language_info": {
   "codemirror_mode": {
    "name": "ipython",
    "version": 3
   },
   "file_extension": ".py",
   "mimetype": "text/x-python",
   "name": "python",
   "nbconvert_exporter": "python",
   "pygments_lexer": "ipython3",
   "version": "3.7.6"
  }
 },
 "nbformat": 4,
 "nbformat_minor": 4
}
